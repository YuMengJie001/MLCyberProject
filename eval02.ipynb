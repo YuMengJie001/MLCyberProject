{
 "cells": [
  {
   "cell_type": "code",
   "execution_count": 1,
   "metadata": {},
   "outputs": [
    {
     "name": "stderr",
     "output_type": "stream",
     "text": [
      "Using TensorFlow backend.\n"
     ]
    }
   ],
   "source": [
    "import matplotlib.pyplot as plt\n",
    "import pandas as pd\n",
    "import numpy as np\n",
    "import seaborn as sns\n",
    "import keras\n",
    "import sys\n",
    "import h5py\n",
    "import warnings\n",
    "import scipy\n",
    "warnings.filterwarnings(\"ignore\")\n"
   ]
  },
  {
   "cell_type": "code",
   "execution_count": 2,
   "metadata": {},
   "outputs": [],
   "source": [
    "import STRIP "
   ]
  },
  {
   "cell_type": "code",
   "execution_count": 3,
   "metadata": {},
   "outputs": [],
   "source": [
    "#You need to change this, according to your actual file location\n",
    "filePath = \"E:/360MoveData/Users/11813/Desktop/NYU2021Fall/MLforCyber/project/\""
   ]
  },
  {
   "cell_type": "code",
   "execution_count": 67,
   "metadata": {},
   "outputs": [],
   "source": [
    "#You need to change this, according to your actual entropy file location\n",
    "entropy_file_name = filePath + \"entropy_clean_sunglasses.h5\""
   ]
  },
  {
   "cell_type": "code",
   "execution_count": 5,
   "metadata": {},
   "outputs": [],
   "source": [
    "#load data and model, You need to change this, according to your actual situation\n",
    "clean_validation_data = filePath + 'clean_validation_data.h5'\n",
    "clean_test_data = filePath + 'clean_test_data.h5'\n",
    "poisoned_test_data = filePath + 'sunglasses_poisoned_data.h5'\n",
    "modelName = filePath +  'bd_net.h5'"
   ]
  },
  {
   "cell_type": "code",
   "execution_count": 6,
   "metadata": {},
   "outputs": [
    {
     "name": "stdout",
     "output_type": "stream",
     "text": [
      "WARNING:tensorflow:From D:\\software\\anaconda3\\lib\\site-packages\\tensorflow\\python\\ops\\resource_variable_ops.py:435: colocate_with (from tensorflow.python.framework.ops) is deprecated and will be removed in a future version.\n",
      "Instructions for updating:\n",
      "Colocations handled automatically by placer.\n"
     ]
    }
   ],
   "source": [
    "model = keras.models.load_model(modelName)"
   ]
  },
  {
   "cell_type": "code",
   "execution_count": 68,
   "metadata": {},
   "outputs": [],
   "source": [
    "entropy_clean_data = h5py.File(entropy_file_name1, \"r\")\n",
    "entropy_clean = np.asarray(entropy_clean_data[\"data\"])\n",
    "entropy = [num/50 for num in entropy_clean1]\n",
    "threshold = STRIP.cal_threshold(entropy)"
   ]
  },
  {
   "cell_type": "code",
   "execution_count": 69,
   "metadata": {},
   "outputs": [],
   "source": [
    "clean_x,clean_y = STRIP.data_load(clean_validation_data)\n",
    "test_c_x,test_c_y = STRIP.data_load(clean_test_data)\n",
    "test_p_x,test_p_y = STRIP.data_load(poisoned_test_data)"
   ]
  },
  {
   "cell_type": "code",
   "execution_count": 73,
   "metadata": {},
   "outputs": [
    {
     "name": "stdout",
     "output_type": "stream",
     "text": [
      "Clean Date Classification Accuracy is : 98.64899974019225\n"
     ]
    }
   ],
   "source": [
    "clean_predict = np.argmax(model.predict(clean_x), axis=1)\n",
    "clean_accuracy = np.mean(np.equal(clean_predict, clean_y))*100\n",
    "print('Clean Date Classification Accuracy is :', clean_accuracy)"
   ]
  },
  {
   "cell_type": "code",
   "execution_count": 75,
   "metadata": {},
   "outputs": [],
   "source": [
    "G_model = STRIP.G(model)"
   ]
  },
  {
   "cell_type": "code",
   "execution_count": null,
   "metadata": {},
   "outputs": [],
   "source": [
    "test_predict= np.argmax(model.predict(test_c_x), axis=1)\n",
    "poison_predict = np.argmax(model.predict(test_p_x), axis=1)"
   ]
  },
  {
   "cell_type": "code",
   "execution_count": 83,
   "metadata": {},
   "outputs": [],
   "source": [
    "pre01 = G_model.new_predict(test_x,clean_x, model,threshold,test_predict,10)\n",
    "clean_test_accuracy = np.mean(np.equal(pre01, test_c_y))*100\n",
    "print('Clean Date Classification Accuracy is :', clean_test_accuracy)"
   ]
  },
  {
   "cell_type": "code",
   "execution_count": null,
   "metadata": {},
   "outputs": [],
   "source": [
    "pre02 = G_model.new_predict(test_p_x,clean_x, model,threshold,poison_predict,10)\n",
    "asr = np.mean(np.equal(pre02, test_y))*100\n",
    "print('Attack Success Rate is :', asr)"
   ]
  }
 ],
 "metadata": {
  "kernelspec": {
   "display_name": "Python 3",
   "language": "python",
   "name": "python3"
  },
  "language_info": {
   "codemirror_mode": {
    "name": "ipython",
    "version": 3
   },
   "file_extension": ".py",
   "mimetype": "text/x-python",
   "name": "python",
   "nbconvert_exporter": "python",
   "pygments_lexer": "ipython3",
   "version": "3.7.3"
  }
 },
 "nbformat": 4,
 "nbformat_minor": 2
}
